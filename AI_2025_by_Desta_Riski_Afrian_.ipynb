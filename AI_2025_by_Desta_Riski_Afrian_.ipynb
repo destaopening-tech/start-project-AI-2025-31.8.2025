{
  "nbformat": 4,
  "nbformat_minor": 0,
  "metadata": {
    "colab": {
      "provenance": [],
      "authorship_tag": "ABX9TyO0amDY2ubP4bfM38KN7Cbq",
      "include_colab_link": true
    },
    "kernelspec": {
      "name": "python3",
      "display_name": "Python 3"
    },
    "language_info": {
      "name": "python"
    }
  },
  "cells": [
    {
      "cell_type": "markdown",
      "metadata": {
        "id": "view-in-github",
        "colab_type": "text"
      },
      "source": [
        "<a href=\"https://colab.research.google.com/github/destaopening-tech/start-project-AI-2025-31.8.2025/blob/main/AI_2025_by_Desta_Riski_Afrian_.ipynb\" target=\"_parent\"><img src=\"https://colab.research.google.com/assets/colab-badge.svg\" alt=\"Open In Colab\"/></a>"
      ]
    },
    {
      "cell_type": "code",
      "source": [
        "!pip install pyngrok flask requests"
      ],
      "metadata": {
        "id": "we4omRhzLBan"
      },
      "execution_count": null,
      "outputs": []
    },
    {
      "cell_type": "code",
      "source": [
        "from pyngrok import ngrok\n",
        "# import library pyngrok buat bikin tunnel ke internet\n",
        "\n",
        "ngrok.set_auth_token(\"31pUFkn9LgddlfulPHpnJwZVvpl_46tdTDxugzSwrC4c9njkJ\")\n",
        "# set auth token akun ngrok lo\n",
        "# fungsi ini biar ngrok tau lo siapa (identitas user)\n",
        "# tanpa token, lo cuma bisa akses ngrok mode gratis (terbatas)\n",
        "# dengan token:\n",
        "#   - lo bisa dapet URL stabil (lebih lama ga expired)\n",
        "#   - ga perlu login manual setiap kali jalanin ngrok\n",
        "#   - bisa manage tunnel dari dashboard ngrok"
      ],
      "metadata": {
        "id": "iFn_8ys-LAiY"
      },
      "execution_count": null,
      "outputs": []
    },
    {
      "cell_type": "code",
      "execution_count": 15,
      "metadata": {
        "id": "pmomgtk3xlYb",
        "colab": {
          "base_uri": "https://localhost:8080/"
        },
        "outputId": "48865a4b-d038-4e56-d2b8-444949b910c5",
        "collapsed": true
      },
      "outputs": [
        {
          "metadata": {
            "tags": null
          },
          "name": "stdout",
          "output_type": "stream",
          "text": [
            "Public UR: NgrokTunnel: \"https://06cbcd023c2d.ngrok-free.app\" -> \"http://localhost:5000\"\n",
            " * Serving Flask app '__main__'\n",
            " * Debug mode: off\n"
          ]
        },
        {
          "metadata": {
            "tags": null
          },
          "name": "stderr",
          "output_type": "stream",
          "text": [
            "INFO:werkzeug:\u001b[31m\u001b[1mWARNING: This is a development server. Do not use it in a production deployment. Use a production WSGI server instead.\u001b[0m\n",
            " * Running on http://127.0.0.1:5000\n",
            "INFO:werkzeug:\u001b[33mPress CTRL+C to quit\u001b[0m\n",
            "INFO:werkzeug:127.0.0.1 - - [02/Sep/2025 15:51:06] \"POST /teach HTTP/1.1\" 200 -\n",
            "INFO:werkzeug:127.0.0.1 - - [02/Sep/2025 15:54:42] \"GET /ask?q=Siapa+kamu? HTTP/1.1\" 200 -\n"
          ]
        }
      ],
      "source": [
        "# ini project pertama desta riski afrian😖\n",
        "#__!pip install pyngrok flask requests__\n",
        "# flask × bikin web server API.\n",
        "# pyngrok × bikin tunnel ngrok biar bisa diakses dari luar.\n",
        "# requests × buat cilent ngetes API(ngajarin/nanya bot).\n",
        "\n",
        "from flask import Flask, request, jsonify\n",
        "from pyngrok import ngrok\n",
        "import json, os, requests\n",
        "\n",
        "# flask × framework server.\n",
        "# requests × ambil data yang dikirim ke server (POST/GET).\n",
        "# jsonfly × balikin response dalam bentuk JSON.\n",
        "# ngrok × bikin URL public.\n",
        "# json, os × buat baca dan nyimpen memori ke file  json.\n",
        "# requests × (opsional)di pakai kalau mau ngetes bot langsung di kode.\n",
        "\n",
        "# bikin aplikasi flask🤖\n",
        "app = Flask(__name__)\n",
        "\n",
        "# nama file untuk nyimpen memory👻\n",
        "DATA_FILE = 'memory.json'\n",
        "\n",
        "# buat memory json klau belum ada!👀\n",
        "if not os.path.exists(DATA_FILE):\n",
        "  with open(DATA_FILE,'w') as f:\n",
        "    json.dump({},f,indent=4)\n",
        "\n",
        "# fungsi buat load memory dari file👽\n",
        "def load_memory():\n",
        "  try:\n",
        "    with open(DATA_FILE,'r') as f:\n",
        "      return json.load(f)\n",
        "  except:\n",
        "    return{}\n",
        "\n",
        "# fungsu buat sumpan memory ke file🥶\n",
        "def save_memory(memory):\n",
        "  with open(DATA_FILE,'w') as f:\n",
        "    json.dump(memory, f, indent=4)\n",
        "\n",
        "# route utama cek bot hidup apa kaga\n",
        "@app.route(\"/\")\n",
        "def home():\n",
        "  return jsonify({'message':'AI buatan Desta Riski Afrian aktif🚀'})\n",
        "\n",
        "# route buat ngajarin bot (POST)\n",
        "@app.route(\"/teach\",methods=[\"POST\"])\n",
        "def teach():\n",
        "  data = request.json # ambil data json dari request🗻\n",
        "  if not data or \"question\" not in data or \"answer\" not in data:\n",
        "    return jsonify({\"error\": \"format salah.kirim JSON {question:...,answer:...}\"}),400\n",
        "\n",
        "  q, a = data[\"question\"],data[\"answer\"] # ambil pertanyaan dan jawaban😖\n",
        "  memory = load_memory() # load memory lama🚇\n",
        "  memory[q] = a # tambah data baru👻\n",
        "  save_memory(memory) # simpan ke file🚀\n",
        "  return jsonify({\"status\":\"learned\",\"q\":q,\"a\":a}) # respon sukses🤖\n",
        "\n",
        "# route buat nanya ke bot (GET)\n",
        "@app.route(\"/ask\",methods=[\"GET\"])\n",
        "def ask():\n",
        "  q = request.args.get(\"q\") # ambil parameter q dari URL\n",
        "  if not q:\n",
        "    return jsonify({\"error\":\"Kasih parameter?q=pertanyaan\"}),400\n",
        "  memory = load_memory() # jelas load memory👽\n",
        "  if q in memory:\n",
        "    return jsonify({\"answer\":memory[q]}) # kalau ada balikin jawabanya👻\n",
        "  else:\n",
        "    return jsonify({\"answer\":\"Aku belum tau jawabanya ganteng,ajarin sii.\"}) # kalaukalau ga ada\n",
        "\n",
        "if __name__==\"__main__\":\n",
        "\n",
        "  # bukti tunnel ngrok di port 5000\n",
        "  public_url = ngrok.connect(5000)\n",
        "  print(\"Public UR:\",public_url) # Cetak url public👻\n",
        "\n",
        "  app.run(port=5000) # jalankan server flask di port 5000.\n",
        "\n",
        "\n"
      ]
    },
    {
      "cell_type": "code",
      "source": [
        "import requests\n",
        "\n",
        "# ganti URL sama URL ngrok lu\n",
        "url = \"https://06cbcd023c2d.ngrok-free.app/ask\"\n",
        "\n",
        "# kasih pertanyaan lewat parameter ?q=\n",
        "params = {\"q\": \"Siapa kamu?\"}\n",
        "\n",
        "res = requests.get(url, params=params)\n",
        "print(\"Status:\", res.status_code)\n",
        "print(\"Response:\", res.text)\n",
        "\n",
        "# --------------------------------------\n",
        "# Penjelasan 👇\n",
        "# import requests → buat kirim request HTTP (GET/POST) ke server.\n",
        "# url = \"...\" → alamat ngrok server Flask lu (endpoint /ask).\n",
        "# params = {\"q\": \"Siapa kamu?\"} → ini cara nanya ke bot, isi teks pertanyaan.\n",
        "# res = requests.get(url, params=params) → ngirim GET request ke server dengan pertanyaan.\n",
        "# print(...) → nampilin status HTTP (200 kalau sukses) dan jawaban dari bot."
      ],
      "metadata": {
        "id": "XWFE3UU2K4vV"
      },
      "execution_count": null,
      "outputs": []
    },
    {
      "cell_type": "code",
      "source": [
        "from pyngrok import ngrok\n",
        "# import library pyngrok buat bikin tunnel ke internet\n",
        "\n",
        "ngrok.set_auth_token(\"31pUFkn9LgddlfulPHpnJwZVvpl_46tdTDxugzSwrC4c9njkJ\")\n",
        "# set auth token akun ngrok lo\n",
        "# fungsi ini biar ngrok tau lo siapa (identitas user)\n",
        "# tanpa token, lo cuma bisa akses ngrok mode gratis (terbatas)\n",
        "# dengan token:\n",
        "#   - lo bisa dapet URL stabil (lebih lama ga expired)\n",
        "#   - ga perlu login manual setiap kali jalanin ngrok\n",
        "#   - bisa manage tunnel dari dashboard ngrok"
      ],
      "metadata": {
        "id": "YeQ1OQ37Mdo2"
      },
      "execution_count": null,
      "outputs": []
    }
  ]
}